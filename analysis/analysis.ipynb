{
 "cells": [
  {
   "cell_type": "markdown",
   "metadata": {},
   "source": [
    "## **Research Question 1: Do winning teams take more shots on net?** ##\n",
    "\n",
    "To explore this topic, columns 'shots' and 'won' were examined.\n",
    "First, we will look at the correlation heatmap to see if there is any correlation between shot total and the result of the game."
   ]
  },
  {
   "cell_type": "markdown",
   "metadata": {},
   "source": [
    "<img src=\"../images/corr_heatmap.png\" width=\"400px\">"
   ]
  },
  {
   "cell_type": "markdown",
   "metadata": {},
   "source": [
    "Based on the heatmap, there does not appear to be much of a correlation between columns (0.005). Nevertheless, we will first graph the columns using a strip plot."
   ]
  },
  {
   "cell_type": "markdown",
   "metadata": {},
   "source": [
    "<img src = \"../images/stripplot_RQ1.png\" width = \"400px\">"
   ]
  },
  {
   "cell_type": "markdown",
   "metadata": {},
   "source": [
    "Not much can be differentiated from the strip plot, next we will plot a barplot and a KDE plot."
   ]
  },
  {
   "cell_type": "markdown",
   "metadata": {},
   "source": [
    "<img src = \"../images/barplot_RQ1.png\" width = \"400px\">\n",
    "<img src = \"../images/kdeplot_RQ1.png\" width = \"400px\">"
   ]
  },
  {
   "cell_type": "markdown",
   "metadata": {},
   "source": [
    "The barplot and KDE plot provide a more accurate insight to show there is almost no difference between shot total and the result of winning/losing hockey games. Thus, **winning teams do not necessarily take more shots on net.**"
   ]
  },
  {
   "cell_type": "markdown",
   "metadata": {},
   "source": [
    "---"
   ]
  },
  {
   "cell_type": "markdown",
   "metadata": {},
   "source": [
    "## **Research Question 2: Do home teams possess more of the puck?** ##\n",
    "\n",
    "To explore this topic, columns 'home/away' and 'faceoffs(%)' were examined. Teams that win more faceoffs generally have higher puck possession.\n"
   ]
  },
  {
   "cell_type": "markdown",
   "metadata": {},
   "source": [
    "This will first be modelled using a strip plot"
   ]
  },
  {
   "cell_type": "markdown",
   "metadata": {},
   "source": [
    "<img src = \"../images/stripplot_RQ2.png\" width = \"400px\">"
   ]
  },
  {
   "cell_type": "markdown",
   "metadata": {},
   "source": [
    "The strip plot reveals slightly greater faceoff percentage results for home teams. Next we will plot the columns using a barplot."
   ]
  },
  {
   "cell_type": "markdown",
   "metadata": {},
   "source": [
    "<img src = \"../images/barplot_RQ2.png\" width = \"400px\">"
   ]
  },
  {
   "cell_type": "markdown",
   "metadata": {},
   "source": [
    "The barplot shows a noticeably higher faceoff percentage for home teams. Lastly, we will plot this using a distribution plot. "
   ]
  },
  {
   "cell_type": "markdown",
   "metadata": {},
   "source": [
    "<img src = \"../images/displot_RQ2.png\" width = \"400px\">"
   ]
  },
  {
   "cell_type": "markdown",
   "metadata": {},
   "source": [
    "The distribution plot not only highlights the increased faceoff percentage for home teams, but also the decreased faceoff percentage for away teams. Therefore, **home teams generally control more of the puck** through winning more faceoffs."
   ]
  },
  {
   "cell_type": "markdown",
   "metadata": {},
   "source": [
    "---"
   ]
  },
  {
   "cell_type": "markdown",
   "metadata": {},
   "source": [
    "## **Research Question 3: Do winning teams have a good powerplay?** ##\n",
    "\n",
    "To explore this topic, columns 'ppg' and 'won' were examined. First, refer back to the correlation heatmap from research question 1.\n",
    "\n",
    "Based on the heatmap, the correlation (0.23) is promising"
   ]
  },
  {
   "cell_type": "markdown",
   "metadata": {},
   "source": [
    "We will first plot this graph using a KDE plot.  "
   ]
  },
  {
   "cell_type": "markdown",
   "metadata": {},
   "source": [
    "<img src = \"../images/kdeplot_RQ3.png\" width = \"400px\">"
   ]
  },
  {
   "cell_type": "markdown",
   "metadata": {},
   "source": [
    "The KDE highlights a large spike at 0 goals for the losing team, meaning losing teams typically have a poor powerplay. However, it does not provide much insight into whether winning teams score more powerplay goals. Next, we will plot using a violin plot."
   ]
  },
  {
   "cell_type": "markdown",
   "metadata": {},
   "source": [
    "<img src = \"../images/violinplot_RQ3.png\" width = \"400px\">"
   ]
  },
  {
   "cell_type": "markdown",
   "metadata": {},
   "source": [
    "The violin plot once again highlights the poor powerplay for the losing team, while also adding more of a visualization of how a winning team scores more powerplay goals. Lastly, we will plot a barplot."
   ]
  },
  {
   "cell_type": "markdown",
   "metadata": {},
   "source": [
    "<img src = \"../images/barplot_RQ3.png\" width = \"400px\">"
   ]
  },
  {
   "cell_type": "markdown",
   "metadata": {},
   "source": [
    "The barplot provides the most emphasis of the difference of how a better powerplay (more powerplay goals) results in winning. Thus, **winning teams generally have a better powerplay than losing teams.**"
   ]
  },
  {
   "cell_type": "code",
   "execution_count": null,
   "metadata": {},
   "outputs": [],
   "source": []
  }
 ],
 "metadata": {
  "kernelspec": {
   "display_name": "Python 3",
   "language": "python",
   "name": "python3"
  },
  "language_info": {
   "codemirror_mode": {
    "name": "ipython",
    "version": 3
   },
   "file_extension": ".py",
   "mimetype": "text/x-python",
   "name": "python",
   "nbconvert_exporter": "python",
   "pygments_lexer": "ipython3",
   "version": "3.8.3"
  }
 },
 "nbformat": 4,
 "nbformat_minor": 4
}
